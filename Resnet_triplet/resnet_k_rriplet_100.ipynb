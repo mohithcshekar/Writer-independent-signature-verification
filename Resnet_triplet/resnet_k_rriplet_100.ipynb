{
 "cells": [
  {
   "cell_type": "code",
   "execution_count": 1,
   "metadata": {
    "scrolled": false
   },
   "outputs": [],
   "source": [
    "from tensorflow.keras.initializers import HeUniform, GlorotNormal\n",
    "from tensorflow.keras.layers import GlobalAveragePooling2D\n",
    "from keras.layers import LeakyReLU"
   ]
  },
  {
   "cell_type": "code",
   "execution_count": 2,
   "metadata": {
    "scrolled": false
   },
   "outputs": [],
   "source": [
    "from keras.regularizers import L2"
   ]
  },
  {
   "cell_type": "code",
   "execution_count": 3,
   "metadata": {
    "scrolled": false
   },
   "outputs": [],
   "source": [
    "import os\n",
    "from itertools import combinations, product\n",
    "from random import sample, shuffle, seed\n",
    "\n",
    "from sklearn.model_selection import train_test_split\n",
    "\n",
    "import tensorflow as tf\n",
    "from tensorflow.math import reduce_sum, square, reduce_mean, maximum, sqrt\n",
    "from tensorflow import random\n",
    "from tensorflow.keras.utils import Sequence\n",
    "from tensorflow.keras.optimizers import Adam, RMSprop\n",
    "from keras.layers import Conv2D, ZeroPadding2D, Activation, Input, concatenate, Dropout, BatchNormalization\n",
    "from keras import layers\n",
    "from tensorflow.keras import optimizers\n",
    "from keras.callbacks import ModelCheckpoint, EarlyStopping\n",
    "from keras.models import Model, Sequential\n",
    "from keras.applications import resnet\n",
    "from keras.callbacks import TensorBoard\n",
    "\n",
    "from keras.layers.pooling import MaxPooling2D\n",
    "from keras.layers.merge import Concatenate\n",
    "from keras.layers.core import Lambda, Flatten, Dense\n",
    "from keras.initializers import glorot_uniform\n",
    "from keras.applications import resnet\n",
    "\n",
    "\n",
    "import numpy as np\n",
    "import cv2\n",
    "from math import ceil"
   ]
  },
  {
   "cell_type": "code",
   "execution_count": 4,
   "metadata": {},
   "outputs": [],
   "source": [
    "np.random.seed(42)\n",
    "random.set_seed(42)\n",
    "\n",
    "img_h, img_w = 155, 220"
   ]
  },
  {
   "cell_type": "code",
   "execution_count": 5,
   "metadata": {},
   "outputs": [],
   "source": [
    "#For BHSig\n",
    "dirs_list=os.listdir(\"E:\\Academics\\Project\\BHSig260-Hindi\\BHSig260-Hindi\")\n",
    "path=\"E:\\Academics\\Project\\BHSig260-Hindi\\BHSig260-Hindi\\\\\"\n",
    "\n",
    "def get_dataset(from_dir, to_dir):\n",
    "    org_sign=[]\n",
    "    forg_sign=[]\n",
    "    for directory in dirs_list[from_dir:to_dir]:\n",
    "        images = os.listdir(path+directory)\n",
    "        images.sort()\n",
    "        images = [directory+'\\\\'+x for x in images]\n",
    "        forg_sign.append(images[:30])\n",
    "        org_sign.append(images[30:])\n",
    "\n",
    "    data=[]\n",
    "    for i in range(len(org_sign)):\n",
    "        j=0\n",
    "        for signs in list(map(list,combinations(org_sign[i],2)))[:170]:\n",
    "            data.append((*signs, forg_sign[i][j%30]))\n",
    "            j+=1\n",
    "    del org_sign, forg_sign, images\n",
    "    return data\n",
    "\n",
    "X_train=get_dataset(0, 110)\n",
    "X_valid=get_dataset(110, 135)\n",
    "X_test=get_dataset(135, 160)"
   ]
  },
  {
   "cell_type": "code",
   "execution_count": 28,
   "metadata": {},
   "outputs": [
    {
     "data": {
      "text/plain": [
       "'X_train=get_dataset(0, 38)\\nX_valid=get_dataset(38, 47)\\nX_test=get_dataset(47, 56)'"
      ]
     },
     "execution_count": 28,
     "metadata": {},
     "output_type": "execute_result"
    }
   ],
   "source": [
    "#For CEDAR\n",
    "dirs_list=os.listdir(\"E:\\\\Academics\\\\Project\\\\CEDAR\")\n",
    "path=\"E:\\\\Academics\\\\Project\\\\CEDAR\\\\\"\n",
    "def get_dataset_cedar(from_dir, to_dir):\n",
    "    org_sign=[]\n",
    "    forg_sign=[]\n",
    "    for directory in dirs_list[from_dir:to_dir]:\n",
    "        images = os.listdir(path+directory)\n",
    "        images.sort()\n",
    "        images = [directory+'\\\\'+x for x in images]\n",
    "        forg_sign.append(images[:24])\n",
    "        org_sign.append(images[24:])\n",
    "\n",
    "    data=[]\n",
    "    for i in range(len(org_sign)):\n",
    "        j=0\n",
    "        for signs in list(map(list,combinations(org_sign[i],2)))[:170]:\n",
    "            data.append((*signs, forg_sign[i][j%24]))\n",
    "            j+=1\n",
    "    del org_sign, forg_sign, images\n",
    "    return data\n",
    "\n",
    "X_cedar=get_dataset_cedar(0, 56)\n",
    "'''X_train=get_dataset(0, 38)\n",
    "X_valid=get_dataset(38, 47)\n",
    "X_test=get_dataset(47, 56)'''"
   ]
  },
  {
   "cell_type": "raw",
   "metadata": {},
   "source": [
    "#orginal pre processing\n",
    "signature = cv2.imread(path+signature)\n",
    "resized_signature = cv2.resize(signature,(220,155))\n",
    "blur = cv2.GaussianBlur(resized_signature,(3,3),-125)\n",
    "gray_signature=cv2.cvtColor(blur, cv2.COLOR_BGR2GRAY)\n",
    "ret,thr_img = cv2.threshold(gray_signature, 0, 255, cv2.THRESH_OTSU)\n",
    "normalized_signature=1-(thr_img/255)\n",
    "rgb_batch = np.repeat(normalized_signature[..., np.newaxis], 3, -1)\n",
    "#signature_expanded = normalized_signature[:, :, np.newaxis]\n",
    "return np.array(rgb_batch)"
   ]
  },
  {
   "cell_type": "code",
   "execution_count": 6,
   "metadata": {
    "scrolled": false
   },
   "outputs": [],
   "source": [
    "class SignatureSequence(Sequence):\n",
    "    \n",
    "    def __init__(self, X, batch_size, dim):\n",
    "        self.X=X\n",
    "        self.dim = dim\n",
    "        self.batch_size = batch_size\n",
    "        \n",
    "\n",
    "    def __len__(self):\n",
    "        return ceil(len(self.X) / self.batch_size)-1\n",
    "\n",
    "    def __getitem__(self, idx):\n",
    "        batch_X = self.X[idx * self.batch_size:(idx + 1) * self.batch_size]\n",
    "        \n",
    "        part_1 = np.empty((self.batch_size, *self.dim,3))\n",
    "        part_2 = np.empty((self.batch_size, *self.dim,3))\n",
    "        part_3 = np.empty((self.batch_size, *self.dim,3))\n",
    "        \n",
    "        for i in range(len(batch_X)):\n",
    "            part_1[i,]=self.image_preprocessing(batch_X[i][0])\n",
    "            part_2[i,]=self.image_preprocessing(batch_X[i][1])\n",
    "            part_3[i,]=self.image_preprocessing(batch_X[i][2])\n",
    "            batch_X_pro=(part_1 ,part_2, part_3)\n",
    "        return batch_X_pro\n",
    "\n",
    "    def image_preprocessing(self, signature):\n",
    "        signature = cv2.imread(path+signature)\n",
    "        resized_signature = cv2.resize(signature,(220,155))\n",
    "        resized_signature=self.removebackground(resized_signature)\n",
    "\n",
    "        gray_signature=cv2.cvtColor(resized_signature,cv2.COLOR_BGR2GRAY)\n",
    "        #USE EITHER GAUSIAN BLUR OR BILATERAL FITERAL DEPENDING ON THE ACCURACY\n",
    "        gray_blur = cv2.GaussianBlur(gray_signature,(5,5),0)\n",
    "        #plt.imshow(gray_blur)\n",
    "        #CHECK WITH 50 to 200 and 80 to 200\n",
    "        edges_o= cv2.Canny(gray_blur, 80,200)\n",
    "        #plt.imshow(edges_o)\n",
    "        bckgnd = np.full_like(resized_signature, (255,255,255))\n",
    "        #plt.imshow(bckgnd)\n",
    "        contours, hierarchy = cv2.findContours(edges_o.copy(), cv2.RETR_TREE, cv2.CHAIN_APPROX_NONE)\n",
    "        # draw all contours\n",
    "        image23 = cv2.drawContours(resized_signature, contours, -1, (255, 0, 0), 1)\n",
    "        gray_signature=cv2.cvtColor(image23, cv2.COLOR_BGR2GRAY)\n",
    "        #plt.imshow(gray_signature)\n",
    "        gray_signature[gray_signature==255] = 0\n",
    "        bef_gray = cv2.threshold(gray_signature, 10, 255, cv2.THRESH_BINARY)[1]\n",
    "        bef_gray = np.true_divide(bef_gray, 255)\n",
    "        signature_expanded = bef_gray[:, :, np.newaxis]\n",
    "        return np.array(signature_expanded)\n",
    "\n",
    "        \n",
    "    def removebackground(self, img):\n",
    "        hh, ww = img.shape[:2]\n",
    "        #plt.imshow(img)\n",
    "        # threshold on white\n",
    "        lower = np.array([200, 200, 200])\n",
    "        upper = np.array([255, 255, 255])\n",
    "        # Create mask to only select white\n",
    "        thresh = cv2.inRange(img, lower, upper)\n",
    "        #plt.imshow(thresh)\n",
    "        thresh_inv = 255 - thresh\n",
    "        #plt.imshow(thresh_inv)\n",
    "        contours = cv2.findContours(thresh_inv , cv2.RETR_TREE, cv2.CHAIN_APPROX_NONE)[0]\n",
    "        mask = np.zeros((hh,ww), dtype=np.uint8)\n",
    "        cv2.drawContours(mask, contours, -1, (255,255,255), cv2.FILLED)\n",
    "        mask_inv = 255 - mask\n",
    "        bckgnd = np.full_like(img, (255,255,255))\n",
    "        #Add it\n",
    "        image_masked = cv2.bitwise_and(img, img, mask=mask)\n",
    "        bckgnd_masked = cv2.bitwise_and(bckgnd, bckgnd, mask=mask_inv)\n",
    "        result = cv2.add(image_masked, bckgnd_masked)\n",
    "        #plt.imshow(result)\n",
    "        #plt.axis('off')\n",
    "        #plt.show()\n",
    "        return result\n",
    "        \n",
    "    def on_epoch_end(self):        \n",
    "        np.random.shuffle(self.X)"
   ]
  },
  {
   "cell_type": "code",
   "execution_count": 7,
   "metadata": {},
   "outputs": [],
   "source": [
    "input_shape=(155,220,3)\n",
    "base_cnn = resnet.ResNet50(\n",
    "    weights=\"imagenet\", input_shape=input_shape, include_top=False\n",
    ")\n",
    "\n",
    "flatten = GlobalAveragePooling2D()(base_cnn.output)\n",
    "dense1 = layers.Dense(512, activation=\"relu\", kernel_regularizer=L2(0.001))(flatten)\n",
    "dense1 = Dropout(0.2)(dense1)\n",
    "dense1 = layers.BatchNormalization()(dense1)\n",
    "\n",
    "dense2 = layers.Dense(256, activation=\"relu\", kernel_regularizer=L2(0.001))(dense1)\n",
    "dense2 = Dropout(0.2)(dense2)\n",
    "dense2 = layers.BatchNormalization()(dense2)\n",
    "\n",
    "output = layers.Dense(256)(dense2)\n",
    "\n",
    "embedding = Model(base_cnn.input, output, name=\"Embedding\")\n",
    "\n",
    "trainable = False\n",
    "for layer in base_cnn.layers:\n",
    "    if layer.name == \"conv5_block1_out\":\n",
    "        trainable = True\n",
    "    layer.trainable = trainable"
   ]
  },
  {
   "cell_type": "code",
   "execution_count": 8,
   "metadata": {},
   "outputs": [],
   "source": [
    "from keras import backend as K"
   ]
  },
  {
   "cell_type": "code",
   "execution_count": 9,
   "metadata": {},
   "outputs": [],
   "source": [
    "class DistanceLayer(layers.Layer):\n",
    "    def __init__(self, **kwargs):\n",
    "        super().__init__(**kwargs)\n",
    "\n",
    "    def call(self, anchor, positive, negative):\n",
    "        \n",
    "        sum_square1 = tf.math.reduce_sum(tf.math.square(anchor - positive), axis=1, keepdims=True)\n",
    "        ap_distance = tf.math.sqrt(tf.math.maximum(sum_square1, tf.keras.backend.epsilon()))\n",
    "        \n",
    "        sum_square2 = tf.math.reduce_sum(tf.math.square(anchor - negative), axis=1, keepdims=True)\n",
    "        an_distance = tf.math.sqrt(tf.math.maximum(sum_square2, tf.keras.backend.epsilon()))\n",
    "        \n",
    "        \n",
    "        '''ap_distance = tf.reduce_sum(tf.square(anchor - positive), -1)\n",
    "        an_distance = tf.reduce_sum(tf.square(anchor - negative), -1)'''\n",
    "        \n",
    "        return (ap_distance, an_distance)\n",
    "\n",
    "\n",
    "anchor_input = layers.Input(name=\"anchor\", shape=input_shape)\n",
    "positive_input = layers.Input(name=\"positive\", shape=input_shape)\n",
    "negative_input = layers.Input(name=\"negative\", shape=input_shape)\n",
    "\n",
    "distances = DistanceLayer()(\n",
    "    embedding(anchor_input),\n",
    "    embedding(positive_input),\n",
    "    embedding(negative_input),\n",
    ")\n",
    "\n",
    "siamese_network = Model(\n",
    "    inputs=[anchor_input, positive_input, negative_input], outputs=distances\n",
    ")"
   ]
  },
  {
   "cell_type": "code",
   "execution_count": 10,
   "metadata": {},
   "outputs": [],
   "source": [
    "class SiameseModel(Model):\n",
    "    def __init__(self, siamese_network, margin=0.5):\n",
    "        super(SiameseModel, self).__init__()\n",
    "        self.siamese_network = siamese_network\n",
    "        self.margin = margin\n",
    "        self.loss_tracker = metrics.Mean(name=\"loss\")\n",
    "\n",
    "    def call(self, inputs):\n",
    "        return self.siamese_network(inputs)\n",
    "\n",
    "    def train_step(self, data):\n",
    "        with tf.GradientTape() as tape:\n",
    "            loss = self._compute_loss(data)\n",
    "        gradients = tape.gradient(loss, self.siamese_network.trainable_weights)\n",
    "        self.optimizer.apply_gradients(\n",
    "            zip(gradients, self.siamese_network.trainable_weights)\n",
    "        )\n",
    "        self.loss_tracker.update_state(loss)\n",
    "        return {\"loss\": self.loss_tracker.result()}\n",
    "\n",
    "    def test_step(self, data):\n",
    "        loss = self._compute_loss(data)\n",
    "        self.loss_tracker.update_state(loss)\n",
    "        return {\"loss\": self.loss_tracker.result()}\n",
    "\n",
    "    def _compute_loss(self, data):\n",
    "        ap_distance, an_distance = self.siamese_network(data)\n",
    "        square_pred = tf.math.square(an_distance)\n",
    "        margin_square = tf.math.square(tf.math.maximum(self.margin - (an_distance), 0))\n",
    "        loss = tf.math.reduce_mean((1 - ap_distance) * square_pred + (ap_distance) * margin_square)      \n",
    "        \n",
    "        '''loss = ap_distance - an_distance\n",
    "        loss = tf.maximum(loss + self.margin, 0.0)'''\n",
    "        return loss\n",
    "\n",
    "    @property\n",
    "    def metrics(self):\n",
    "        return [self.loss_tracker]"
   ]
  },
  {
   "cell_type": "code",
   "execution_count": 11,
   "metadata": {},
   "outputs": [],
   "source": [
    "from tensorflow.keras import metrics"
   ]
  },
  {
   "cell_type": "code",
   "execution_count": 12,
   "metadata": {},
   "outputs": [],
   "source": [
    "siamese_model = SiameseModel(siamese_network)\n",
    "siamese_model.compile(optimizer=optimizers.Adam(0.0001))"
   ]
  },
  {
   "cell_type": "code",
   "execution_count": 13,
   "metadata": {
    "scrolled": false
   },
   "outputs": [],
   "source": [
    "nan_terminate=tf.keras.callbacks.TerminateOnNaN()\n",
    "early_stp=EarlyStopping(patience=2, restore_best_weights=True)\n",
    "checkpoint_cb=ModelCheckpoint('shallow_best_model.h5', save_best_only=True, save_weights_only=True)"
   ]
  },
  {
   "cell_type": "code",
   "execution_count": 15,
   "metadata": {},
   "outputs": [
    {
     "name": "stdout",
     "output_type": "stream",
     "text": [
      "Epoch 1/3\n",
      "292/292 [==============================] - 574s 2s/step - loss: 0.0115 - val_loss: 0.0023\n",
      "Epoch 2/3\n",
      "292/292 [==============================] - 622s 2s/step - loss: 9.8234e-04 - val_loss: 7.0455e-04\n",
      "Epoch 3/3\n",
      "292/292 [==============================] - 460s 2s/step - loss: 3.5458e-04 - val_loss: 4.0472e-04\n"
     ]
    }
   ],
   "source": [
    "dim=(155,220)\n",
    "batch_size=64\n",
    "train_batch=SignatureSequence(np.array(X_train), batch_size, dim)\n",
    "valid_batch=SignatureSequence(np.array(X_valid),batch_size, dim)\n",
    "history=siamese_model.fit(train_batch, validation_data=valid_batch, epochs=3, steps_per_epoch=len(X_train)//batch_size, validation_steps=len(X_valid)//batch_size, callbacks=[checkpoint_cb, nan_terminate, early_stp])"
   ]
  },
  {
   "cell_type": "code",
   "execution_count": null,
   "metadata": {},
   "outputs": [],
   "source": []
  },
  {
   "cell_type": "code",
   "execution_count": null,
   "metadata": {},
   "outputs": [],
   "source": []
  },
  {
   "cell_type": "code",
   "execution_count": null,
   "metadata": {},
   "outputs": [],
   "source": []
  },
  {
   "cell_type": "code",
   "execution_count": null,
   "metadata": {},
   "outputs": [],
   "source": []
  },
  {
   "cell_type": "code",
   "execution_count": 31,
   "metadata": {},
   "outputs": [],
   "source": [
    "import matplotlib.pyplot as plt"
   ]
  },
  {
   "cell_type": "code",
   "execution_count": 33,
   "metadata": {
    "collapsed": true
   },
   "outputs": [
    {
     "ename": "TypeError",
     "evalue": "Image data of dtype <U18 cannot be converted to float",
     "output_type": "error",
     "traceback": [
      "\u001b[1;31m---------------------------------------------------------------------------\u001b[0m",
      "\u001b[1;31mTypeError\u001b[0m                                 Traceback (most recent call last)",
      "\u001b[1;32m<ipython-input-33-0b4c5a17e398>\u001b[0m in \u001b[0;36m<module>\u001b[1;34m\u001b[0m\n\u001b[1;32m----> 1\u001b[1;33m \u001b[0mplt\u001b[0m\u001b[1;33m.\u001b[0m\u001b[0mimshow\u001b[0m\u001b[1;33m(\u001b[0m\u001b[0mX_cedar\u001b[0m\u001b[1;33m[\u001b[0m\u001b[1;36m0\u001b[0m\u001b[1;33m]\u001b[0m\u001b[1;33m[\u001b[0m\u001b[1;36m0\u001b[0m\u001b[1;33m]\u001b[0m\u001b[1;33m)\u001b[0m\u001b[1;33m\u001b[0m\u001b[1;33m\u001b[0m\u001b[0m\n\u001b[0m",
      "\u001b[1;32mD:\\Anaconda\\lib\\site-packages\\matplotlib\\pyplot.py\u001b[0m in \u001b[0;36mimshow\u001b[1;34m(X, cmap, norm, aspect, interpolation, alpha, vmin, vmax, origin, extent, shape, filternorm, filterrad, imlim, resample, url, data, **kwargs)\u001b[0m\n\u001b[0;32m   2643\u001b[0m         \u001b[0mfilterrad\u001b[0m\u001b[1;33m=\u001b[0m\u001b[1;36m4.0\u001b[0m\u001b[1;33m,\u001b[0m \u001b[0mimlim\u001b[0m\u001b[1;33m=\u001b[0m\u001b[0mcbook\u001b[0m\u001b[1;33m.\u001b[0m\u001b[0mdeprecation\u001b[0m\u001b[1;33m.\u001b[0m\u001b[0m_deprecated_parameter\u001b[0m\u001b[1;33m,\u001b[0m\u001b[1;33m\u001b[0m\u001b[1;33m\u001b[0m\u001b[0m\n\u001b[0;32m   2644\u001b[0m         resample=None, url=None, *, data=None, **kwargs):\n\u001b[1;32m-> 2645\u001b[1;33m     __ret = gca().imshow(\n\u001b[0m\u001b[0;32m   2646\u001b[0m         \u001b[0mX\u001b[0m\u001b[1;33m,\u001b[0m \u001b[0mcmap\u001b[0m\u001b[1;33m=\u001b[0m\u001b[0mcmap\u001b[0m\u001b[1;33m,\u001b[0m \u001b[0mnorm\u001b[0m\u001b[1;33m=\u001b[0m\u001b[0mnorm\u001b[0m\u001b[1;33m,\u001b[0m \u001b[0maspect\u001b[0m\u001b[1;33m=\u001b[0m\u001b[0maspect\u001b[0m\u001b[1;33m,\u001b[0m\u001b[1;33m\u001b[0m\u001b[1;33m\u001b[0m\u001b[0m\n\u001b[0;32m   2647\u001b[0m         \u001b[0minterpolation\u001b[0m\u001b[1;33m=\u001b[0m\u001b[0minterpolation\u001b[0m\u001b[1;33m,\u001b[0m \u001b[0malpha\u001b[0m\u001b[1;33m=\u001b[0m\u001b[0malpha\u001b[0m\u001b[1;33m,\u001b[0m \u001b[0mvmin\u001b[0m\u001b[1;33m=\u001b[0m\u001b[0mvmin\u001b[0m\u001b[1;33m,\u001b[0m\u001b[1;33m\u001b[0m\u001b[1;33m\u001b[0m\u001b[0m\n",
      "\u001b[1;32mD:\\Anaconda\\lib\\site-packages\\matplotlib\\__init__.py\u001b[0m in \u001b[0;36minner\u001b[1;34m(ax, data, *args, **kwargs)\u001b[0m\n\u001b[0;32m   1563\u001b[0m     \u001b[1;32mdef\u001b[0m \u001b[0minner\u001b[0m\u001b[1;33m(\u001b[0m\u001b[0max\u001b[0m\u001b[1;33m,\u001b[0m \u001b[1;33m*\u001b[0m\u001b[0margs\u001b[0m\u001b[1;33m,\u001b[0m \u001b[0mdata\u001b[0m\u001b[1;33m=\u001b[0m\u001b[1;32mNone\u001b[0m\u001b[1;33m,\u001b[0m \u001b[1;33m**\u001b[0m\u001b[0mkwargs\u001b[0m\u001b[1;33m)\u001b[0m\u001b[1;33m:\u001b[0m\u001b[1;33m\u001b[0m\u001b[1;33m\u001b[0m\u001b[0m\n\u001b[0;32m   1564\u001b[0m         \u001b[1;32mif\u001b[0m \u001b[0mdata\u001b[0m \u001b[1;32mis\u001b[0m \u001b[1;32mNone\u001b[0m\u001b[1;33m:\u001b[0m\u001b[1;33m\u001b[0m\u001b[1;33m\u001b[0m\u001b[0m\n\u001b[1;32m-> 1565\u001b[1;33m             \u001b[1;32mreturn\u001b[0m \u001b[0mfunc\u001b[0m\u001b[1;33m(\u001b[0m\u001b[0max\u001b[0m\u001b[1;33m,\u001b[0m \u001b[1;33m*\u001b[0m\u001b[0mmap\u001b[0m\u001b[1;33m(\u001b[0m\u001b[0msanitize_sequence\u001b[0m\u001b[1;33m,\u001b[0m \u001b[0margs\u001b[0m\u001b[1;33m)\u001b[0m\u001b[1;33m,\u001b[0m \u001b[1;33m**\u001b[0m\u001b[0mkwargs\u001b[0m\u001b[1;33m)\u001b[0m\u001b[1;33m\u001b[0m\u001b[1;33m\u001b[0m\u001b[0m\n\u001b[0m\u001b[0;32m   1566\u001b[0m \u001b[1;33m\u001b[0m\u001b[0m\n\u001b[0;32m   1567\u001b[0m         \u001b[0mbound\u001b[0m \u001b[1;33m=\u001b[0m \u001b[0mnew_sig\u001b[0m\u001b[1;33m.\u001b[0m\u001b[0mbind\u001b[0m\u001b[1;33m(\u001b[0m\u001b[0max\u001b[0m\u001b[1;33m,\u001b[0m \u001b[1;33m*\u001b[0m\u001b[0margs\u001b[0m\u001b[1;33m,\u001b[0m \u001b[1;33m**\u001b[0m\u001b[0mkwargs\u001b[0m\u001b[1;33m)\u001b[0m\u001b[1;33m\u001b[0m\u001b[1;33m\u001b[0m\u001b[0m\n",
      "\u001b[1;32mD:\\Anaconda\\lib\\site-packages\\matplotlib\\cbook\\deprecation.py\u001b[0m in \u001b[0;36mwrapper\u001b[1;34m(*args, **kwargs)\u001b[0m\n\u001b[0;32m    356\u001b[0m                 \u001b[1;34mf\"%(removal)s.  If any parameter follows {name!r}, they \"\u001b[0m\u001b[1;33m\u001b[0m\u001b[1;33m\u001b[0m\u001b[0m\n\u001b[0;32m    357\u001b[0m                 f\"should be pass as keyword, not positionally.\")\n\u001b[1;32m--> 358\u001b[1;33m         \u001b[1;32mreturn\u001b[0m \u001b[0mfunc\u001b[0m\u001b[1;33m(\u001b[0m\u001b[1;33m*\u001b[0m\u001b[0margs\u001b[0m\u001b[1;33m,\u001b[0m \u001b[1;33m**\u001b[0m\u001b[0mkwargs\u001b[0m\u001b[1;33m)\u001b[0m\u001b[1;33m\u001b[0m\u001b[1;33m\u001b[0m\u001b[0m\n\u001b[0m\u001b[0;32m    359\u001b[0m \u001b[1;33m\u001b[0m\u001b[0m\n\u001b[0;32m    360\u001b[0m     \u001b[1;32mreturn\u001b[0m \u001b[0mwrapper\u001b[0m\u001b[1;33m\u001b[0m\u001b[1;33m\u001b[0m\u001b[0m\n",
      "\u001b[1;32mD:\\Anaconda\\lib\\site-packages\\matplotlib\\cbook\\deprecation.py\u001b[0m in \u001b[0;36mwrapper\u001b[1;34m(*args, **kwargs)\u001b[0m\n\u001b[0;32m    356\u001b[0m                 \u001b[1;34mf\"%(removal)s.  If any parameter follows {name!r}, they \"\u001b[0m\u001b[1;33m\u001b[0m\u001b[1;33m\u001b[0m\u001b[0m\n\u001b[0;32m    357\u001b[0m                 f\"should be pass as keyword, not positionally.\")\n\u001b[1;32m--> 358\u001b[1;33m         \u001b[1;32mreturn\u001b[0m \u001b[0mfunc\u001b[0m\u001b[1;33m(\u001b[0m\u001b[1;33m*\u001b[0m\u001b[0margs\u001b[0m\u001b[1;33m,\u001b[0m \u001b[1;33m**\u001b[0m\u001b[0mkwargs\u001b[0m\u001b[1;33m)\u001b[0m\u001b[1;33m\u001b[0m\u001b[1;33m\u001b[0m\u001b[0m\n\u001b[0m\u001b[0;32m    359\u001b[0m \u001b[1;33m\u001b[0m\u001b[0m\n\u001b[0;32m    360\u001b[0m     \u001b[1;32mreturn\u001b[0m \u001b[0mwrapper\u001b[0m\u001b[1;33m\u001b[0m\u001b[1;33m\u001b[0m\u001b[0m\n",
      "\u001b[1;32mD:\\Anaconda\\lib\\site-packages\\matplotlib\\axes\\_axes.py\u001b[0m in \u001b[0;36mimshow\u001b[1;34m(self, X, cmap, norm, aspect, interpolation, alpha, vmin, vmax, origin, extent, shape, filternorm, filterrad, imlim, resample, url, **kwargs)\u001b[0m\n\u001b[0;32m   5624\u001b[0m                               resample=resample, **kwargs)\n\u001b[0;32m   5625\u001b[0m \u001b[1;33m\u001b[0m\u001b[0m\n\u001b[1;32m-> 5626\u001b[1;33m         \u001b[0mim\u001b[0m\u001b[1;33m.\u001b[0m\u001b[0mset_data\u001b[0m\u001b[1;33m(\u001b[0m\u001b[0mX\u001b[0m\u001b[1;33m)\u001b[0m\u001b[1;33m\u001b[0m\u001b[1;33m\u001b[0m\u001b[0m\n\u001b[0m\u001b[0;32m   5627\u001b[0m         \u001b[0mim\u001b[0m\u001b[1;33m.\u001b[0m\u001b[0mset_alpha\u001b[0m\u001b[1;33m(\u001b[0m\u001b[0malpha\u001b[0m\u001b[1;33m)\u001b[0m\u001b[1;33m\u001b[0m\u001b[1;33m\u001b[0m\u001b[0m\n\u001b[0;32m   5628\u001b[0m         \u001b[1;32mif\u001b[0m \u001b[0mim\u001b[0m\u001b[1;33m.\u001b[0m\u001b[0mget_clip_path\u001b[0m\u001b[1;33m(\u001b[0m\u001b[1;33m)\u001b[0m \u001b[1;32mis\u001b[0m \u001b[1;32mNone\u001b[0m\u001b[1;33m:\u001b[0m\u001b[1;33m\u001b[0m\u001b[1;33m\u001b[0m\u001b[0m\n",
      "\u001b[1;32mD:\\Anaconda\\lib\\site-packages\\matplotlib\\image.py\u001b[0m in \u001b[0;36mset_data\u001b[1;34m(self, A)\u001b[0m\n\u001b[0;32m    691\u001b[0m         if (self._A.dtype != np.uint8 and\n\u001b[0;32m    692\u001b[0m                 not np.can_cast(self._A.dtype, float, \"same_kind\")):\n\u001b[1;32m--> 693\u001b[1;33m             raise TypeError(\"Image data of dtype {} cannot be converted to \"\n\u001b[0m\u001b[0;32m    694\u001b[0m                             \"float\".format(self._A.dtype))\n\u001b[0;32m    695\u001b[0m \u001b[1;33m\u001b[0m\u001b[0m\n",
      "\u001b[1;31mTypeError\u001b[0m: Image data of dtype <U18 cannot be converted to float"
     ]
    },
    {
     "data": {
      "image/png": "[encoded data removed]",
      "text/plain": [
       "<Figure size 432x288 with 1 Axes>"
      ]
     },
     "metadata": {
      "needs_background": "light"
     },
     "output_type": "display_data"
    }
   ],
   "source": [
    "plt.imshow(X_cedar[0][0])"
   ]
  },
  {
   "cell_type": "code",
   "execution_count": null,
   "metadata": {},
   "outputs": [],
   "source": []
  },
  {
   "cell_type": "code",
   "execution_count": null,
   "metadata": {},
   "outputs": [],
   "source": []
  },
  {
   "cell_type": "code",
   "execution_count": null,
   "metadata": {},
   "outputs": [],
   "source": [
    "dim=(155,220)\n",
    "batch_size=64"
   ]
  },
  {
   "cell_type": "code",
   "execution_count": 16,
   "metadata": {
    "scrolled": false
   },
   "outputs": [],
   "source": [
    "test_batch=SignatureSequence(np.array(X_test),batch_size, dim)"
   ]
  },
  {
   "cell_type": "code",
   "execution_count": 17,
   "metadata": {},
   "outputs": [
    {
     "name": "stdout",
     "output_type": "stream",
     "text": [
      "66/66 [==============================] - 83s 1s/step - loss: 3.4619e-04\n"
     ]
    },
    {
     "data": {
      "text/plain": [
       "0.00034619326470419765"
      ]
     },
     "execution_count": 17,
     "metadata": {},
     "output_type": "execute_result"
    }
   ],
   "source": [
    "siamese_model.evaluate(test_batch)"
   ]
  },
  {
   "cell_type": "code",
   "execution_count": 34,
   "metadata": {},
   "outputs": [
    {
     "name": "stdout",
     "output_type": "stream",
     "text": [
      "146/146 [==============================] - 189s 1s/step - loss: 0.0085\n"
     ]
    },
    {
     "data": {
      "text/plain": [
       "0.00850170198827982"
      ]
     },
     "execution_count": 34,
     "metadata": {},
     "output_type": "execute_result"
    }
   ],
   "source": [
    "test_batch_cedar=SignatureSequence(np.array(X_cedar),batch_size, dim)\n",
    "siamese_model.evaluate(test_batch_cedar)"
   ]
  },
  {
   "cell_type": "code",
   "execution_count": null,
   "metadata": {},
   "outputs": [],
   "source": []
  },
  {
   "cell_type": "code",
   "execution_count": null,
   "metadata": {},
   "outputs": [],
   "source": []
  },
  {
   "cell_type": "code",
   "execution_count": null,
   "metadata": {},
   "outputs": [],
   "source": []
  },
  {
   "cell_type": "code",
   "execution_count": null,
   "metadata": {},
   "outputs": [],
   "source": [
    "import matplotlib.pyplot as plt"
   ]
  },
  {
   "cell_type": "code",
   "execution_count": null,
   "metadata": {},
   "outputs": [],
   "source": [
    "sample = test_batch[0]\n",
    "#visualize(*sample)\n",
    "anchor, positive, negative = sample\n",
    "anchor_embedding, positive_embedding, negative_embedding = (\n",
    "    embedding(anchor),\n",
    "    embedding(positive),\n",
    "    embedding(negative),\n",
    ")\n",
    "\n",
    "cosine_similarity = metrics.CosineSimilarity()\n",
    "\n",
    "positive_similarity = euclidean_distance(anchor_embedding, positive_embedding)\n",
    "#positive_similarity = cosine_similarity(anchor_embedding, positive_embedding)\n",
    "print(positive_similarity.numpy())\n",
    "\n",
    "negative_similarity = euclidean_distance(anchor_embedding, negative_embedding)\n",
    "#negative_similarity = cosine_similarity(anchor_embedding, negative_embedding)\n",
    "print(negative_similarity.numpy())"
   ]
  },
  {
   "cell_type": "code",
   "execution_count": 37,
   "metadata": {},
   "outputs": [],
   "source": [
    "post=[]\n",
    "neg=[]\n",
    "for anchor, positive, negative in test_batch_cedar:\n",
    "    anchor_embedding, positive_embedding, negative_embedding = (embedding(anchor), embedding(positive), embedding(negative))\n",
    "    post.append(euclidean_distance(anchor_embedding, positive_embedding).numpy())\n",
    "    neg.append(euclidean_distance(anchor_embedding, negative_embedding).numpy())"
   ]
  },
  {
   "cell_type": "code",
   "execution_count": 38,
   "metadata": {},
   "outputs": [
    {
     "data": {
      "text/plain": [
       "1.7086294"
      ]
     },
     "execution_count": 38,
     "metadata": {},
     "output_type": "execute_result"
    }
   ],
   "source": [
    "min(neg)"
   ]
  },
  {
   "cell_type": "code",
   "execution_count": 39,
   "metadata": {},
   "outputs": [
    {
     "data": {
      "text/plain": [
       "2.6478195"
      ]
     },
     "execution_count": 39,
     "metadata": {},
     "output_type": "execute_result"
    }
   ],
   "source": [
    "max(post)"
   ]
  },
  {
   "cell_type": "code",
   "execution_count": 47,
   "metadata": {},
   "outputs": [
    {
     "data": {
      "text/plain": [
       "146"
      ]
     },
     "execution_count": 47,
     "metadata": {},
     "output_type": "execute_result"
    }
   ],
   "source": [
    "len(post)"
   ]
  },
  {
   "cell_type": "code",
   "execution_count": 45,
   "metadata": {},
   "outputs": [],
   "source": [
    "result=[]\n",
    "for x, y in zip(post, neg):\n",
    "    result.append(str(x-y)[0]=='-')"
   ]
  },
  {
   "cell_type": "code",
   "execution_count": 46,
   "metadata": {},
   "outputs": [
    {
     "data": {
      "text/plain": [
       "144"
      ]
     },
     "execution_count": 46,
     "metadata": {},
     "output_type": "execute_result"
    }
   ],
   "source": [
    "result.count(True)"
   ]
  },
  {
   "cell_type": "code",
   "execution_count": 43,
   "metadata": {},
   "outputs": [
    {
     "name": "stdout",
     "output_type": "stream",
     "text": [
      "-0.5245545\n",
      "-0.2448479\n",
      "-0.30974054\n",
      "-0.40081167\n",
      "-0.7218566\n",
      "-0.571563\n",
      "-0.19700933\n",
      "-0.2931049\n",
      "-0.5290394\n",
      "-0.29591918\n",
      "-0.6369505\n",
      "-0.47938108\n",
      "-0.12155044\n",
      "-0.23866963\n",
      "-0.13213742\n",
      "-0.6709626\n",
      "-0.5317565\n",
      "-0.39680123\n",
      "-0.3736577\n",
      "-0.23343515\n",
      "-0.102808\n",
      "-0.20616305\n",
      "-1.099057\n",
      "-0.44471264\n",
      "-0.33997405\n",
      "-0.15065384\n",
      "-0.5965122\n",
      "-0.3122338\n",
      "-0.12608528\n",
      "-0.2433114\n",
      "-0.43985784\n",
      "-0.1766833\n",
      "-0.42625237\n",
      "-0.47692585\n",
      "-0.7765323\n",
      "-0.3117261\n",
      "-0.07850242\n",
      "-0.54954004\n",
      "-0.04096794\n",
      "-0.42212105\n",
      "-0.34157515\n",
      "-0.4290943\n",
      "-0.7402655\n",
      "-0.21466184\n",
      "-0.22641206\n",
      "-0.43509364\n",
      "-0.3375957\n",
      "-0.23182678\n",
      "-0.382105\n",
      "-0.17357326\n",
      "-0.26058948\n",
      "-0.2547896\n",
      "-0.560951\n",
      "-0.4507947\n",
      "-0.39188266\n",
      "-0.44451547\n",
      "-0.59934497\n",
      "-0.9611094\n",
      "-0.46092892\n",
      "-0.2395966\n",
      "-0.0375731\n",
      "-0.33080912\n",
      "-0.48354506\n",
      "-0.6518574\n",
      "-0.6371455\n",
      "-0.33128762\n",
      "-0.18808913\n",
      "-0.41440535\n",
      "-0.17103982\n",
      "-0.8172698\n",
      "-0.49373317\n",
      "-0.47853494\n",
      "-0.31290436\n",
      "-0.22729015\n",
      "-0.7613398\n",
      "-0.52878714\n",
      "-0.18178248\n",
      "-0.4201889\n",
      "-0.36807585\n",
      "-1.2779942\n",
      "-0.50094986\n",
      "-0.2906494\n",
      "-0.76772046\n",
      "-0.0752821\n",
      "-0.378366\n",
      "-0.6544225\n",
      "-0.54828644\n",
      "-0.291165\n",
      "-0.49772537\n",
      "-0.2688005\n",
      "-0.55208516\n",
      "-0.17586577\n",
      "-0.2964146\n",
      "-0.31535077\n",
      "-0.19883442\n",
      "-0.35833097\n",
      "-0.41498876\n",
      "-0.4078337\n",
      "-0.18660736\n",
      "-0.83114135\n",
      "-0.63434875\n",
      "-0.34938717\n",
      "-0.14253211\n",
      "-0.5395448\n",
      "-0.773345\n",
      "-0.30441594\n",
      "-0.19438672\n",
      "-0.08564615\n",
      "-0.024339914\n",
      "-0.32403052\n",
      "-0.25735474\n",
      "-0.58938265\n",
      "-0.6408801\n",
      "-0.4282328\n",
      "-0.26997066\n",
      "-0.40087223\n",
      "-0.26841545\n",
      "-0.38632786\n",
      "-0.7420771\n",
      "-0.36697102\n",
      "0.041847467\n",
      "-0.44473112\n",
      "-0.51406884\n",
      "-0.37484717\n",
      "-0.41968584\n",
      "-0.36627436\n",
      "-0.27645922\n",
      "-0.42038345\n",
      "-0.5138408\n",
      "-0.41806614\n",
      "-0.13541651\n",
      "-0.41410387\n",
      "-0.28749704\n",
      "-0.23618984\n",
      "-0.4697107\n",
      "-0.4767002\n",
      "-0.85225034\n",
      "-0.74487627\n",
      "-0.44290996\n",
      "-0.24168038\n",
      "-0.35709608\n",
      "0.22337437\n",
      "-0.5239489\n",
      "-0.16039538\n",
      "-0.5168785\n",
      "-0.55899346\n"
     ]
    }
   ],
   "source": [
    "result=[]\n",
    "for x, y in zip(post, neg):\n",
    "    print(x-y)"
   ]
  },
  {
   "cell_type": "code",
   "execution_count": 24,
   "metadata": {},
   "outputs": [
    {
     "data": {
      "text/plain": [
       "66"
      ]
     },
     "execution_count": 24,
     "metadata": {},
     "output_type": "execute_result"
    }
   ],
   "source": [
    "result.count(True)"
   ]
  },
  {
   "cell_type": "code",
   "execution_count": 25,
   "metadata": {},
   "outputs": [
    {
     "data": {
      "text/plain": [
       "0"
      ]
     },
     "execution_count": 25,
     "metadata": {},
     "output_type": "execute_result"
    }
   ],
   "source": [
    "result.count(False)"
   ]
  },
  {
   "cell_type": "code",
   "execution_count": null,
   "metadata": {},
   "outputs": [],
   "source": [
    "58/66"
   ]
  },
  {
   "cell_type": "code",
   "execution_count": null,
   "metadata": {},
   "outputs": [],
   "source": []
  },
  {
   "cell_type": "code",
   "execution_count": null,
   "metadata": {},
   "outputs": [],
   "source": []
  },
  {
   "cell_type": "code",
   "execution_count": 35,
   "metadata": {},
   "outputs": [],
   "source": [
    "def euclidean_distance(x, y ):\n",
    "    sum_square = tf.math.reduce_sum(tf.math.square(x - y), axis=1, keepdims=True)\n",
    "    return tf.math.reduce_sum(tf.math.sqrt(tf.math.maximum(sum_square, tf.keras.backend.epsilon())))"
   ]
  },
  {
   "cell_type": "code",
   "execution_count": null,
   "metadata": {},
   "outputs": [],
   "source": [
    "def visualize(anchor, positive, negative):\n",
    "    \"\"\"Visualize a few triplets from the supplied batches.\"\"\"\n",
    "\n",
    "    def show(ax, image):\n",
    "        ax.imshow(image)\n",
    "        ax.get_xaxis().set_visible(False)\n",
    "        ax.get_yaxis().set_visible(False)\n",
    "\n",
    "    fig = plt.figure(figsize=(9, 9))\n",
    "\n",
    "    axs = fig.subplots(3, 3)\n",
    "    for i in range(3):\n",
    "        show(axs[i, 0], anchor[i])\n",
    "        show(axs[i, 1], positive[i])\n",
    "        show(axs[i, 2], negative[i])"
   ]
  },
  {
   "cell_type": "code",
   "execution_count": null,
   "metadata": {
    "scrolled": false
   },
   "outputs": [],
   "source": []
  },
  {
   "cell_type": "code",
   "execution_count": null,
   "metadata": {
    "scrolled": false
   },
   "outputs": [],
   "source": [
    "siamese_model.save_weights('resnet_triplet_best.h5')"
   ]
  },
  {
   "cell_type": "code",
   "execution_count": null,
   "metadata": {
    "scrolled": false
   },
   "outputs": [],
   "source": [
    "model.load_weights('temp.h5')"
   ]
  },
  {
   "cell_type": "code",
   "execution_count": null,
   "metadata": {
    "scrolled": false
   },
   "outputs": [],
   "source": [
    "from sklearn.metrics import accuracy_score\n",
    "from sklearn.metrics import roc_curve, plot_roc_curve\n",
    "import matplotlib.pyplot as plt"
   ]
  },
  {
   "cell_type": "code",
   "execution_count": null,
   "metadata": {
    "scrolled": false
   },
   "outputs": [],
   "source": [
    "def map_arr(arr):\n",
    "    return list(map(int, arr)) \n",
    "def acc_th(th=0.1, step=0.1):\n",
    "    global preds\n",
    "    accs={}\n",
    "    for i in range(0, 40, 1):\n",
    "        th+=step\n",
    "        accs[th]=(accuracy_score(map_arr(np.array(y_test)[:2816]==0), map_arr(preds[:2816]<th)))\n",
    "    best_th=max(accs, key=accs.get)\n",
    "    fpr, tpr, thresholds=roc_curve( map_arr(np.array(y_test)[:2816]==0), map_arr(preds[:2816]<best_th))\n",
    "    plt.plot(fpr)\n",
    "    plt.plot(1-tpr)\n",
    "    plt.show()\n",
    "    return \"Acc: \"+str(max(accs.values())), 'Best Threshold: '+str(best_th)"
   ]
  },
  {
   "cell_type": "code",
   "execution_count": null,
   "metadata": {
    "scrolled": false
   },
   "outputs": [],
   "source": []
  }
 ],
 "metadata": {
  "kernelspec": {
   "display_name": "Python 3",
   "language": "python",
   "name": "python3"
  },
  "language_info": {
   "codemirror_mode": {
    "name": "ipython",
    "version": 3
   },
   "file_extension": ".py",
   "mimetype": "text/x-python",
   "name": "python",
   "nbconvert_exporter": "python",
   "pygments_lexer": "ipython3",
   "version": "3.8.3"
  }
 },
 "nbformat": 4,
 "nbformat_minor": 4
}
